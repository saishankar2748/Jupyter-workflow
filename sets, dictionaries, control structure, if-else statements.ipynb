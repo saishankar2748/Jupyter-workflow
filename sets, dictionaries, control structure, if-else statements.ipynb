{
 "cells": [
  {
   "cell_type": "markdown",
   "id": "fdeedf31",
   "metadata": {},
   "source": [
    "# <p style=\"color:blue\"> Sets </p>\n",
    "-  Sets are mutabel <br> a.add(1)\n",
    "-  sets are unordered so indexing and slicing are not possible\n",
    "-  sets does not allow duplicates\n",
    "-  set methods:-\n",
    "    -  a.add(value) >> adds element\n",
    "    -  a.remove(value) >> removes element\n",
    "    -  a.union(b) >> union\n",
    "    -  a.intersection(b) >> intersection\n",
    "    -  a.difference(b) >> difference"
   ]
  },
  {
   "cell_type": "code",
   "execution_count": 1,
   "id": "10c16ad9",
   "metadata": {},
   "outputs": [
    {
     "name": "stdout",
     "output_type": "stream",
     "text": [
      "5\n",
      "{1, 2, 3, 4, 5}\n",
      "{1, 2, 3, 4, 5, 'sand'}\n",
      "{2, 3, 4, 5, 'sand'}\n"
     ]
    }
   ],
   "source": [
    "a = {1,2,3,4,5,5}\n",
    "print(len(a))\n",
    "print(a)\n",
    "a.add('sand')\n",
    "print(a)\n",
    "a.remove(1)\n",
    "print(a)"
   ]
  },
  {
   "cell_type": "code",
   "execution_count": 2,
   "id": "eb9fdaf1",
   "metadata": {},
   "outputs": [
    {
     "name": "stdout",
     "output_type": "stream",
     "text": [
      "{0, 1, 2, 3, 4, 5, 6, 8}\n",
      "{0, 1, 2, 3, 4, 5, 6, 8}\n",
      "{2, 4}\n",
      "{2, 4}\n",
      "{0, 8, 6}\n",
      "{0, 8, 6}\n",
      "{0, 1, 3, 5, 6, 8}\n"
     ]
    }
   ],
   "source": [
    "A = {0, 2, 4, 6, 8}\n",
    "B = {1, 2, 3, 4, 5}\n",
    "print(A|B)\n",
    "print(A.union(B))\n",
    "print(A & B)\n",
    "print(A.intersection(B))\n",
    "print(A-B)\n",
    "print(A.difference(B))\n",
    "print(A^B)"
   ]
  },
  {
   "cell_type": "markdown",
   "id": "82c38ec7",
   "metadata": {},
   "source": [
    "# <p style=\"color:blue\"> Dictoinaries </p>\n",
    "-  Dictionary stores element as keys and values pairs.\n",
    "-  keys are unique and immutable whereas values are mutable, immutable\n",
    "-  keys act as index and can be used to access the value\n",
    "-  d[\"India\"] = \"Rs\" >> if key already present then value is updated or else it would be added to dic\n",
    "-  del[key] >> deletes key as well as value\n",
    "-  sorted(d) >> returns a list of sorted keys\n",
    "-  Dictoinary methods:-\n",
    "    -  d.keys() >> prints all the keys\n",
    "    -  d.values() >> prints all the values\n",
    "    -  d.update({key:value}) >> updates specified key\n",
    "    -  d.get(3,\"NA\")"
   ]
  },
  {
   "cell_type": "code",
   "execution_count": 3,
   "id": "73b44b1c",
   "metadata": {},
   "outputs": [
    {
     "name": "stdout",
     "output_type": "stream",
     "text": [
      "{'India': 'INR', 'USA': 'USD', 'France': 'Euros'}\n",
      "INR\n",
      "{'India': 'Rs', 'USA': 'USD', 'France': 'Euros'}\n",
      "{'India': 'Rs', 'USA': 'USD', 'France': 'Euros', 'Japan': 'Yen'}\n",
      "{'India': 'Rs', 'France': 'Euros', 'Japan': 'Yen'}\n",
      "['France', 'India', 'Japan']\n",
      "dict_keys(['India', 'France', 'Japan'])\n",
      "dict_values(['Rs', 'Euros', 'Yen'])\n"
     ]
    }
   ],
   "source": [
    "d = {\"India\" : \"INR\", \"USA\" : \"USD\", \"France\" : \"Euros\"}\n",
    "print(d)\n",
    "print(d[\"India\"])\n",
    "d['India'] = 'Rs'\n",
    "print(d)\n",
    "d[\"Japan\"] = \"Yen\"\n",
    "print(d)\n",
    "del d['USA']\n",
    "print(d)\n",
    "print(sorted(d))\n",
    "print(d.keys())\n",
    "print(d.values())"
   ]
  },
  {
   "cell_type": "markdown",
   "id": "0a82271b",
   "metadata": {},
   "source": [
    "# <p style=\"color:blue\"> Control Structures </p>\n",
    "-  ## if-else statements\n",
    "    -  binary oparators >> a+b,a-b\n",
    "        - relational operators >> used to compare values and return boolean value <br> 10 == 9 >> returns false\n",
    "        -  logical operators >> combine multiple relational operators togather <br> include 'and','or','not'\n",
    "    -  Tips: <br> When there is more than one condition to check, and you need to:\n",
    "        1. Just return a boolean functionality, i.e., 'Yes' or 'No'; you use logical operators in a single if-else construct.\n",
    "        2. Perform a different operation at each condition involving a single variable; you use an if-elif-else condition.\n",
    "        3. Perform a different operation in each condition involving different variables; you use a nested if-else construct.\n",
    "-  for and while loops\n",
    "-  list and dictionary comprehensions"
   ]
  },
  {
   "cell_type": "code",
   "execution_count": 4,
   "id": "063c0bc3",
   "metadata": {},
   "outputs": [
    {
     "name": "stdout",
     "output_type": "stream",
     "text": [
      "enter a number:8\n",
      "8 is even number\n"
     ]
    }
   ],
   "source": [
    "x =  int(input(\"enter a number:\"))\n",
    "if x%2 == 0:\n",
    "    print(x,\"is even number\")\n",
    "else:\n",
    "    print(x,\"is odd number\")"
   ]
  },
  {
   "cell_type": "code",
   "execution_count": 5,
   "id": "6173231d",
   "metadata": {},
   "outputs": [
    {
     "name": "stdout",
     "output_type": "stream",
     "text": [
      "Enter age :88\n",
      "wlecome to the party\n"
     ]
    }
   ],
   "source": [
    "age = int(input(\"Enter age :\"))\n",
    "if age <= 18 or age >= 60:\n",
    "    print(\"wlecome to the party\")\n",
    "else:\n",
    "    print(\"Your age does not fit for the party\")"
   ]
  },
  {
   "cell_type": "code",
   "execution_count": 6,
   "id": "cabc50a5",
   "metadata": {},
   "outputs": [
    {
     "name": "stdout",
     "output_type": "stream",
     "text": [
      "Your total bill5669\n",
      "You won a discount voucher of flat 1000 on next purchase\n"
     ]
    }
   ],
   "source": [
    "shoppinng_total = int(input('Your total bill'))\n",
    "\n",
    "if shoppinng_total >= 5000:\n",
    "    print(\"You won a discount voucher of flat 1000 on next purchase\")\n",
    "elif shoppinng_total >= 2500:\n",
    "    print(\"You won a discount voucher of flat 500 on next purchase\")\n",
    "elif shoppinng_total >= 1000:\n",
    "    print(\"You won a discount voucher of flat 100 on next purchase\")    \n",
    "else:\n",
    "    print(\"OOPS!! no discount for you!!!\")"
   ]
  },
  {
   "cell_type": "code",
   "execution_count": 7,
   "id": "8b12a5d9",
   "metadata": {},
   "outputs": [
    {
     "name": "stdout",
     "output_type": "stream",
     "text": [
      "Enter year to check2011\n",
      "Enter country name to be checkedIndia\n",
      "Hurray India made to the finals in 2011\n"
     ]
    }
   ],
   "source": [
    "world_cups = {2019 : ['England', 'New-Zeland'], 2015:[\"Australia\", \"New Zeland\"], 2011 : [\"India\", \"Sri Lanka\"], 2007: [\"Australia\", \"Sri Lanka\"], 2003: [\"Australia\", \"India\"]}\n",
    "year = int(input(\"Enter year to check\"))\n",
    "country = input(\"Enter country name to be checked\")\n",
    "if year in world_cups:\n",
    "    if country in world_cups[year]:\n",
    "        print(\"Hurray {} made to the finals in {}\".format(country,year))\n",
    "    elif country in world_cups.values():\n",
    "        print(\"Sorry {} did not make to finals in {}\".format(country,year))\n",
    "    else:\n",
    "        print(\"country is not available\")\n",
    "else:\n",
    "    print(\"World cup was not played in {}\".format(year))"
   ]
  }
 ],
 "metadata": {
  "kernelspec": {
   "display_name": "Python 3 (ipykernel)",
   "language": "python",
   "name": "python3"
  },
  "language_info": {
   "codemirror_mode": {
    "name": "ipython",
    "version": 3
   },
   "file_extension": ".py",
   "mimetype": "text/x-python",
   "name": "python",
   "nbconvert_exporter": "python",
   "pygments_lexer": "ipython3",
   "version": "3.9.7"
  }
 },
 "nbformat": 4,
 "nbformat_minor": 5
}
