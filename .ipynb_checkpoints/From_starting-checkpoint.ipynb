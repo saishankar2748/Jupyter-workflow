{
 "cells": [
  {
   "cell_type": "code",
   "execution_count": 9,
   "id": "bba25113",
   "metadata": {},
   "outputs": [
    {
     "name": "stdout",
     "output_type": "stream",
     "text": [
      "<class 'str'>\n",
      "Ramesh\n"
     ]
    }
   ],
   "source": [
    "#variable declaration\n",
    "name = \"Shankar\"\n",
    "print(type(name))\n",
    "name = \"Ramesh\"\n",
    "print(name)"
   ]
  },
  {
   "cell_type": "code",
   "execution_count": 10,
   "id": "a4cd6934",
   "metadata": {},
   "outputs": [
    {
     "name": "stdout",
     "output_type": "stream",
     "text": [
      "Enter your name:sai\n",
      "Hello sai\n"
     ]
    }
   ],
   "source": [
    "name1 = input(\"Enter your name:\")\n",
    "print(\"Hello\",name1)"
   ]
  },
  {
   "cell_type": "code",
   "execution_count": 11,
   "id": "879ce991",
   "metadata": {},
   "outputs": [
    {
     "name": "stdout",
     "output_type": "stream",
     "text": [
      "is sandhya married:yes\n",
      "True\n",
      "<class 'bool'>\n"
     ]
    }
   ],
   "source": [
    "result = bool(input('is sandhya married:'))\n",
    "print(result)\n",
    "print(type(result))"
   ]
  },
  {
   "cell_type": "markdown",
   "id": "d59f8510",
   "metadata": {},
   "source": [
    "In your usage, converting a string to a bool will not be a solution that will work. In Python, if you convert a string to a bool, for example: bool(\"False\") the boolean value will be True, this is because if you convert a non-empty string to a bool it will always convert to True, but if you try to convert an empty string to a bool you'll get False."
   ]
  },
  {
   "cell_type": "code",
   "execution_count": 4,
   "id": "0127e8eb",
   "metadata": {},
   "outputs": [
    {
     "name": "stdout",
     "output_type": "stream",
     "text": [
      "is sandhya married? (yes/no)yes\n",
      "True\n",
      "<class 'bool'>\n"
     ]
    }
   ],
   "source": [
    "result1 = input(\"is sandhya married? (yes/no)\").lower().strip()=='yes'\n",
    "print(result1)\n",
    "print(type(result1))"
   ]
  },
  {
   "cell_type": "markdown",
   "id": "37911e84",
   "metadata": {},
   "source": [
    "Result is always bool;\n",
    "Capitals are ignored;\n",
    "True only if it contains yes and maybe some spaces;\n",
    "Everything else equals to False;"
   ]
  },
  {
   "cell_type": "code",
   "execution_count": 13,
   "id": "3c9e60d5",
   "metadata": {},
   "outputs": [
    {
     "name": "stdout",
     "output_type": "stream",
     "text": [
      "<class 'float'>\n",
      "<class 'int'>\n",
      "<class 'str'>\n",
      "<class 'bool'>\n",
      "True\n"
     ]
    }
   ],
   "source": [
    "# Type casting\n",
    "x=2.44\n",
    "print(type(x))\n",
    "print(type(int(x)))\n",
    "print(type(str(x)))\n",
    "print((type(bool(x))))\n",
    "y=bool(x)\n",
    "print(y)"
   ]
  },
  {
   "cell_type": "code",
   "execution_count": 14,
   "id": "409b78ad",
   "metadata": {},
   "outputs": [
    {
     "name": "stdout",
     "output_type": "stream",
     "text": [
      "s\n",
      "i am happy\n",
      "fdg\n",
      "True\n",
      "asfsdngiasfsdngi\n"
     ]
    }
   ],
   "source": [
    "# string operations\n",
    "string =\"asfsdngi\"\n",
    "print(string[-7])\n",
    "print('i am '+''+'happy')\n",
    "print(string[2:7:2])\n",
    "print(\"as\" in string)\n",
    "print(string*2)"
   ]
  },
  {
   "cell_type": "code",
   "execution_count": 15,
   "id": "95f47c95",
   "metadata": {},
   "outputs": [
    {
     "name": "stdout",
     "output_type": "stream",
     "text": [
      "   ***SANDYA GOT A JOB###   \n",
      "   ***sandya got a job###   \n",
      "***Sandya got a Job###\n",
      "   ***Sandya got a Job###\n",
      "***Sandya got a Job\n",
      "SANDYA GOT A JOB\n"
     ]
    }
   ],
   "source": [
    "#strip function\n",
    "string1 = \"   ***Sandya got a Job###   \"\n",
    "print(string1.upper())\n",
    "print(string1.lower())\n",
    "print(string1.strip())\n",
    "print(string1.rstrip())\n",
    "print(string1.strip().rstrip('#'))\n",
    "print(string1.strip().lstrip('*').rstrip('#').upper())"
   ]
  },
  {
   "cell_type": "code",
   "execution_count": 16,
   "id": "d64f66ab",
   "metadata": {},
   "outputs": [
    {
     "name": "stdout",
     "output_type": "stream",
     "text": [
      "['***Sandya', 'got', 'a', 'Job###']\n",
      "['   ***S', 'ndy', ' got ', ' Job###   ']\n"
     ]
    }
   ],
   "source": [
    "print(string1.split())\n",
    "print(string1.split('a'))"
   ]
  },
  {
   "cell_type": "code",
   "execution_count": 17,
   "id": "d40ffa30",
   "metadata": {},
   "outputs": [
    {
     "name": "stdout",
     "output_type": "stream",
     "text": [
      "2\n",
      "1\n"
     ]
    }
   ],
   "source": [
    "#count function\n",
    "print(string1.count('o'))\n",
    "print(string1.count('o',-9))"
   ]
  },
  {
   "cell_type": "code",
   "execution_count": 18,
   "id": "ff689c92",
   "metadata": {},
   "outputs": [
    {
     "name": "stdout",
     "output_type": "stream",
     "text": [
      "I am Raja and I am a 13year old male dog\n"
     ]
    }
   ],
   "source": [
    "age = 13\n",
    "sex = \"male\"\n",
    "name = \"Raja\"\n",
    "print('I am {0} and I am a {1}year old {2} dog'.format(name,age,sex))"
   ]
  },
  {
   "cell_type": "code",
   "execution_count": 19,
   "id": "19bb81b0",
   "metadata": {},
   "outputs": [
    {
     "name": "stdout",
     "output_type": "stream",
     "text": [
      "(1,)\n",
      "<class 'tuple'>\n"
     ]
    }
   ],
   "source": [
    "tup1 = 1,2,'sai',0.99\n",
    "tup = 1,\n",
    "tup = (1,)\n",
    "print(tup)\n",
    "print(type(tup))"
   ]
  },
  {
   "cell_type": "code",
   "execution_count": 20,
   "id": "3de1ef6d",
   "metadata": {},
   "outputs": [
    {
     "name": "stdout",
     "output_type": "stream",
     "text": [
      "sai\n",
      "('sai', 0.99)\n",
      "(1, 1, 2, 'sai', 0.99)\n",
      "5\n",
      "(1, 1, 2, 'sai', 'shankar', 0.99)\n",
      "1\n",
      "<class 'str'>\n"
     ]
    }
   ],
   "source": [
    "print(tup1[2])\n",
    "print(tup1[-2:])\n",
    "tup_2 = tup + tup1\n",
    "print(tup_2)\n",
    "print(len(tup_2))\n",
    "new_tup = tup_2[:4]+ (\"shankar\",)+tup_2[4:]\n",
    "print(new_tup)\n",
    "print(sum(tup))\n",
    "print(type(new_tup[3]))"
   ]
  },
  {
   "cell_type": "code",
   "execution_count": 21,
   "id": "f578559f",
   "metadata": {},
   "outputs": [
    {
     "name": "stdout",
     "output_type": "stream",
     "text": [
      "[2, 2, 3, 3, 4, 45]\n",
      "(3, 2, 4, 2, 3, 45)\n",
      "(2, 2, 3, 3, 4, 45)\n",
      "True\n"
     ]
    }
   ],
   "source": [
    "tupe=3,2,4,2,3,45\n",
    "x = sorted(tupe)\n",
    "print(sorted(tupe))\n",
    "print(tupe)\n",
    "new_tupe = tuple(x)\n",
    "print(new_tupe)\n",
    "print(3 in new_tupe)"
   ]
  },
  {
   "cell_type": "code",
   "execution_count": 22,
   "id": "f75dbb47",
   "metadata": {},
   "outputs": [
    {
     "name": "stdout",
     "output_type": "stream",
     "text": [
      "2 2 45\n",
      "Help on tuple object:\n",
      "\n",
      "class tuple(object)\n",
      " |  tuple(iterable=(), /)\n",
      " |  \n",
      " |  Built-in immutable sequence.\n",
      " |  \n",
      " |  If no argument is given, the constructor returns an empty tuple.\n",
      " |  If iterable is specified the tuple is initialized from iterable's items.\n",
      " |  \n",
      " |  If the argument is a tuple, the return value is the same object.\n",
      " |  \n",
      " |  Built-in subclasses:\n",
      " |      asyncgen_hooks\n",
      " |      UnraisableHookArgs\n",
      " |  \n",
      " |  Methods defined here:\n",
      " |  \n",
      " |  __add__(self, value, /)\n",
      " |      Return self+value.\n",
      " |  \n",
      " |  __contains__(self, key, /)\n",
      " |      Return key in self.\n",
      " |  \n",
      " |  __eq__(self, value, /)\n",
      " |      Return self==value.\n",
      " |  \n",
      " |  __ge__(self, value, /)\n",
      " |      Return self>=value.\n",
      " |  \n",
      " |  __getattribute__(self, name, /)\n",
      " |      Return getattr(self, name).\n",
      " |  \n",
      " |  __getitem__(self, key, /)\n",
      " |      Return self[key].\n",
      " |  \n",
      " |  __getnewargs__(self, /)\n",
      " |  \n",
      " |  __gt__(self, value, /)\n",
      " |      Return self>value.\n",
      " |  \n",
      " |  __hash__(self, /)\n",
      " |      Return hash(self).\n",
      " |  \n",
      " |  __iter__(self, /)\n",
      " |      Implement iter(self).\n",
      " |  \n",
      " |  __le__(self, value, /)\n",
      " |      Return self<=value.\n",
      " |  \n",
      " |  __len__(self, /)\n",
      " |      Return len(self).\n",
      " |  \n",
      " |  __lt__(self, value, /)\n",
      " |      Return self<value.\n",
      " |  \n",
      " |  __mul__(self, value, /)\n",
      " |      Return self*value.\n",
      " |  \n",
      " |  __ne__(self, value, /)\n",
      " |      Return self!=value.\n",
      " |  \n",
      " |  __repr__(self, /)\n",
      " |      Return repr(self).\n",
      " |  \n",
      " |  __rmul__(self, value, /)\n",
      " |      Return value*self.\n",
      " |  \n",
      " |  count(self, value, /)\n",
      " |      Return number of occurrences of value.\n",
      " |  \n",
      " |  index(self, value, start=0, stop=9223372036854775807, /)\n",
      " |      Return first index of value.\n",
      " |      \n",
      " |      Raises ValueError if the value is not present.\n",
      " |  \n",
      " |  ----------------------------------------------------------------------\n",
      " |  Class methods defined here:\n",
      " |  \n",
      " |  __class_getitem__(...) from builtins.type\n",
      " |      See PEP 585\n",
      " |  \n",
      " |  ----------------------------------------------------------------------\n",
      " |  Static methods defined here:\n",
      " |  \n",
      " |  __new__(*args, **kwargs) from builtins.type\n",
      " |      Create and return a new object.  See help(type) for accurate signature.\n",
      "\n"
     ]
    }
   ],
   "source": [
    "(a,b,c,d,e,f) = new_tupe\n",
    "print(a,b,f)\n",
    "help(new_tupe)"
   ]
  },
  {
   "cell_type": "code",
   "execution_count": 23,
   "id": "50f3bffe",
   "metadata": {},
   "outputs": [
    {
     "name": "stdout",
     "output_type": "stream",
     "text": [
      "['Ramesh', 'Sharada', 'Sandhya', 'Sai', ['raja', 'tara'], (2, 'Sravs', 'Bals')]\n",
      "<class 'list'>\n",
      "<class 'tuple'>\n",
      "['Ramesh', 'Sharada', 'Sandhya']\n"
     ]
    }
   ],
   "source": [
    "l = ['Ramesh',\"Sharada\",'Sandhya',\"Sai\",['raja','tara'],(2,'Sravs','Bals')]\n",
    "print(l)\n",
    "print(type(l))\n",
    "print(type(l[-1]))\n",
    "print(l[0:3])"
   ]
  },
  {
   "cell_type": "code",
   "execution_count": 24,
   "id": "ee36c09b",
   "metadata": {},
   "outputs": [
    {
     "name": "stdout",
     "output_type": "stream",
     "text": [
      "['Ramesh', 'Sharada', 'Sandhya', 'Sai', ['raja', 'tara'], (2, 'Sravs', 'Bals'), 'Venkatesh', 'Kumari']\n",
      "True\n"
     ]
    }
   ],
   "source": [
    "l_1 = l + ['Venkatesh','Kumari']\n",
    "print(l_1)\n",
    "print(\"Sai\" in l_1)"
   ]
  },
  {
   "cell_type": "code",
   "execution_count": 25,
   "id": "4e5aaa9e",
   "metadata": {},
   "outputs": [
    {
     "name": "stdout",
     "output_type": "stream",
     "text": [
      "['Ramesh', 'Sharada', 'married', 'Sai', ['raja', 'tara'], (2, 'Sravs', 'Bals')]\n",
      "['Ramesh', 'Sharada', 'married', 'Sai', ['raja', 'tara'], (2, 'Sravs', 'Bals'), 'Venkatesh', 'Kumari']\n",
      "['Ramesh', 'Sharada', 'married', 'Sai', ['raja', 'tara'], (2, 'Sravs', 'Bals'), 'Venkatesh', 'Kumari', ['Venkatesh', 'Kumari']]\n",
      "['Ramesh', 'Sharada', 'Sai', ['raja', 'tara'], (2, 'Sravs', 'Bals'), 'Venkatesh', 'Kumari', ['Venkatesh', 'Kumari']]\n"
     ]
    }
   ],
   "source": [
    "l[2] = \"married\"\n",
    "print(l)\n",
    "l.extend(['Venkatesh','Kumari'])\n",
    "print(l)\n",
    "l.append(['Venkatesh','Kumari'])\n",
    "print(l)\n",
    "del(l[2])\n",
    "print(l)"
   ]
  },
  {
   "cell_type": "code",
   "execution_count": 26,
   "id": "e8667ac7",
   "metadata": {},
   "outputs": [
    {
     "name": "stdout",
     "output_type": "stream",
     "text": [
      "['Ramesh', 'Sharada', 'Sai', ['raja', 'tara'], (2, 'Sravs', 'Bals'), 'Venkatesh', 'Kumari', ['Venkatesh', 'Kumari']]\n",
      "['Ramesh', 'Sharada', 'Sai', ['raja', 'tara'], (2, 'Sravs', 'Bals'), 'Venkatesh', 'Kumari']\n",
      "['Ramesh', 'Sharada', ['raja', 'tara'], (2, 'Sravs', 'Bals'), 'Venkatesh', 'Kumari']\n"
     ]
    }
   ],
   "source": [
    "\n",
    "print(l)\n",
    "l.pop()\n",
    "print(l)\n",
    "l.remove('Sai')\n",
    "print(l)"
   ]
  },
  {
   "cell_type": "code",
   "execution_count": 27,
   "id": "b0e58431",
   "metadata": {},
   "outputs": [
    {
     "name": "stdout",
     "output_type": "stream",
     "text": [
      "Help on list object:\n",
      "\n",
      "class list(object)\n",
      " |  list(iterable=(), /)\n",
      " |  \n",
      " |  Built-in mutable sequence.\n",
      " |  \n",
      " |  If no argument is given, the constructor creates a new empty list.\n",
      " |  The argument must be an iterable if specified.\n",
      " |  \n",
      " |  Methods defined here:\n",
      " |  \n",
      " |  __add__(self, value, /)\n",
      " |      Return self+value.\n",
      " |  \n",
      " |  __contains__(self, key, /)\n",
      " |      Return key in self.\n",
      " |  \n",
      " |  __delitem__(self, key, /)\n",
      " |      Delete self[key].\n",
      " |  \n",
      " |  __eq__(self, value, /)\n",
      " |      Return self==value.\n",
      " |  \n",
      " |  __ge__(self, value, /)\n",
      " |      Return self>=value.\n",
      " |  \n",
      " |  __getattribute__(self, name, /)\n",
      " |      Return getattr(self, name).\n",
      " |  \n",
      " |  __getitem__(...)\n",
      " |      x.__getitem__(y) <==> x[y]\n",
      " |  \n",
      " |  __gt__(self, value, /)\n",
      " |      Return self>value.\n",
      " |  \n",
      " |  __iadd__(self, value, /)\n",
      " |      Implement self+=value.\n",
      " |  \n",
      " |  __imul__(self, value, /)\n",
      " |      Implement self*=value.\n",
      " |  \n",
      " |  __init__(self, /, *args, **kwargs)\n",
      " |      Initialize self.  See help(type(self)) for accurate signature.\n",
      " |  \n",
      " |  __iter__(self, /)\n",
      " |      Implement iter(self).\n",
      " |  \n",
      " |  __le__(self, value, /)\n",
      " |      Return self<=value.\n",
      " |  \n",
      " |  __len__(self, /)\n",
      " |      Return len(self).\n",
      " |  \n",
      " |  __lt__(self, value, /)\n",
      " |      Return self<value.\n",
      " |  \n",
      " |  __mul__(self, value, /)\n",
      " |      Return self*value.\n",
      " |  \n",
      " |  __ne__(self, value, /)\n",
      " |      Return self!=value.\n",
      " |  \n",
      " |  __repr__(self, /)\n",
      " |      Return repr(self).\n",
      " |  \n",
      " |  __reversed__(self, /)\n",
      " |      Return a reverse iterator over the list.\n",
      " |  \n",
      " |  __rmul__(self, value, /)\n",
      " |      Return value*self.\n",
      " |  \n",
      " |  __setitem__(self, key, value, /)\n",
      " |      Set self[key] to value.\n",
      " |  \n",
      " |  __sizeof__(self, /)\n",
      " |      Return the size of the list in memory, in bytes.\n",
      " |  \n",
      " |  append(self, object, /)\n",
      " |      Append object to the end of the list.\n",
      " |  \n",
      " |  clear(self, /)\n",
      " |      Remove all items from list.\n",
      " |  \n",
      " |  copy(self, /)\n",
      " |      Return a shallow copy of the list.\n",
      " |  \n",
      " |  count(self, value, /)\n",
      " |      Return number of occurrences of value.\n",
      " |  \n",
      " |  extend(self, iterable, /)\n",
      " |      Extend list by appending elements from the iterable.\n",
      " |  \n",
      " |  index(self, value, start=0, stop=9223372036854775807, /)\n",
      " |      Return first index of value.\n",
      " |      \n",
      " |      Raises ValueError if the value is not present.\n",
      " |  \n",
      " |  insert(self, index, object, /)\n",
      " |      Insert object before index.\n",
      " |  \n",
      " |  pop(self, index=-1, /)\n",
      " |      Remove and return item at index (default last).\n",
      " |      \n",
      " |      Raises IndexError if list is empty or index is out of range.\n",
      " |  \n",
      " |  remove(self, value, /)\n",
      " |      Remove first occurrence of value.\n",
      " |      \n",
      " |      Raises ValueError if the value is not present.\n",
      " |  \n",
      " |  reverse(self, /)\n",
      " |      Reverse *IN PLACE*.\n",
      " |  \n",
      " |  sort(self, /, *, key=None, reverse=False)\n",
      " |      Sort the list in ascending order and return None.\n",
      " |      \n",
      " |      The sort is in-place (i.e. the list itself is modified) and stable (i.e. the\n",
      " |      order of two equal elements is maintained).\n",
      " |      \n",
      " |      If a key function is given, apply it once to each list item and sort them,\n",
      " |      ascending or descending, according to their function values.\n",
      " |      \n",
      " |      The reverse flag can be set to sort in descending order.\n",
      " |  \n",
      " |  ----------------------------------------------------------------------\n",
      " |  Class methods defined here:\n",
      " |  \n",
      " |  __class_getitem__(...) from builtins.type\n",
      " |      See PEP 585\n",
      " |  \n",
      " |  ----------------------------------------------------------------------\n",
      " |  Static methods defined here:\n",
      " |  \n",
      " |  __new__(*args, **kwargs) from builtins.type\n",
      " |      Create and return a new object.  See help(type) for accurate signature.\n",
      " |  \n",
      " |  ----------------------------------------------------------------------\n",
      " |  Data and other attributes defined here:\n",
      " |  \n",
      " |  __hash__ = None\n",
      "\n"
     ]
    }
   ],
   "source": [
    "help(l)"
   ]
  },
  {
   "cell_type": "code",
   "execution_count": 45,
   "id": "208b71bb",
   "metadata": {},
   "outputs": [
    {
     "name": "stdout",
     "output_type": "stream",
     "text": [
      "5\n",
      "{1, 2, 3, 4, 5}\n",
      "{1, 2, 3, 4, 5, 'sand'}\n",
      "{2, 3, 4, 5, 'sand'}\n"
     ]
    }
   ],
   "source": [
    "a = {1,2,3,4,5,5}\n",
    "print(len(a))\n",
    "print(a)\n",
    "a.add('sand')\n",
    "print(a)\n",
    "a.remove(1)\n",
    "print(a)"
   ]
  },
  {
   "cell_type": "code",
   "execution_count": 55,
   "id": "aff89aa3",
   "metadata": {},
   "outputs": [
    {
     "name": "stdout",
     "output_type": "stream",
     "text": [
      "{0, 1, 2, 3, 4, 5, 6, 8}\n",
      "{0, 1, 2, 3, 4, 5, 6, 8}\n",
      "{2, 4}\n",
      "{2, 4}\n",
      "{0, 8, 6}\n",
      "{0, 8, 6}\n",
      "{0, 1, 3, 5, 6, 8}\n"
     ]
    }
   ],
   "source": [
    "A = {0, 2, 4, 6, 8}\n",
    "B = {1, 2, 3, 4, 5}\n",
    "print(A|B)\n",
    "print(A.union(B))\n",
    "print(A & B)\n",
    "print(A.intersection(B))\n",
    "print(A-B)\n",
    "print(A.difference(B))\n",
    "print(A^B)"
   ]
  },
  {
   "cell_type": "code",
   "execution_count": 38,
   "id": "1a58cc4b",
   "metadata": {},
   "outputs": [
    {
     "name": "stdout",
     "output_type": "stream",
     "text": [
      "{'India': 'INR', 'USA': 'USD', 'France': 'Euros'}\n",
      "INR\n",
      "{'India': 'Rs', 'USA': 'USD', 'France': 'Euros'}\n",
      "{'India': 'Rs', 'USA': 'USD', 'France': 'Euros', 'Japan': 'Yen'}\n",
      "{'India': 'Rs', 'France': 'Euros', 'Japan': 'Yen'}\n",
      "['France', 'India', 'Japan']\n",
      "dict_keys(['India', 'France', 'Japan'])\n",
      "dict_values(['Rs', 'Euros', 'Yen'])\n",
      "dict_items([('India', 'Rs'), ('France', 'Euros'), ('Japan', 'Yen')])\n"
     ]
    }
   ],
   "source": [
    "d = {\"India\" : \"INR\", \"USA\" : \"USD\", \"France\" : \"Euros\"}\n",
    "print(d)\n",
    "print(d[\"India\"])\n",
    "d['India'] = 'Rs'\n",
    "print(d)\n",
    "d[\"Japan\"] = \"Yen\"\n",
    "print(d)\n",
    "del d['USA']\n",
    "print(d)\n",
    "print(sorted(d))\n",
    "print(d.keys())\n",
    "print(d.values())\n",
    "print(d.items())"
   ]
  },
  {
   "cell_type": "code",
   "execution_count": 7,
   "id": "a9f31295",
   "metadata": {},
   "outputs": [
    {
     "name": "stdout",
     "output_type": "stream",
     "text": [
      "enter a number:4\n",
      "4 is even number\n"
     ]
    }
   ],
   "source": [
    "x =  int(input(\"enter a number:\"))\n",
    "if x%2 == 0:\n",
    "    print(x,\"is even number\")\n",
    "else:\n",
    "    print(x,\"is odd number\")"
   ]
  },
  {
   "cell_type": "code",
   "execution_count": 14,
   "id": "de7536e8",
   "metadata": {},
   "outputs": [
    {
     "name": "stdout",
     "output_type": "stream",
     "text": [
      "Enter age :56\n",
      "Your age does not fit for the party\n"
     ]
    }
   ],
   "source": [
    "age = int(input(\"Enter age :\"))\n",
    "if age <= 18 or age >= 60:\n",
    "    print(\"wlecome to the party\")\n",
    "else:\n",
    "    print(\"Your age does not fit for the party\")"
   ]
  },
  {
   "cell_type": "code",
   "execution_count": 16,
   "id": "911a7979",
   "metadata": {},
   "outputs": [
    {
     "name": "stdout",
     "output_type": "stream",
     "text": [
      "Your total bill5900\n",
      "You won a discount voucher of flat 1000 on next purchase\n"
     ]
    }
   ],
   "source": [
    "shoppinng_total = int(input('Your total bill'))\n",
    "\n",
    "if shoppinng_total >= 5000:\n",
    "    print(\"You won a discount voucher of flat 1000 on next purchase\")\n",
    "elif shoppinng_total >= 2500:\n",
    "    print(\"You won a discount voucher of flat 500 on next purchase\")\n",
    "elif shoppinng_total >= 1000:\n",
    "    print(\"You won a discount voucher of flat 100 on next purchase\")    \n",
    "else:\n",
    "    print(\"OOPS!! no discount for you!!!\")"
   ]
  },
  {
   "cell_type": "code",
   "execution_count": 27,
   "id": "8bf800ff",
   "metadata": {
    "scrolled": true
   },
   "outputs": [
    {
     "name": "stdout",
     "output_type": "stream",
     "text": [
      "Enter year to check200\n",
      "Enter country name to be checkedIndia\n",
      "World cup was not played in 200\n"
     ]
    }
   ],
   "source": [
    "world_cups = {2019 : ['England', 'New-Zeland'], 2015:[\"Australia\", \"New Zeland\"], 2011 : [\"India\", \"Sri Lanka\"], 2007: [\"Australia\", \"Sri Lanka\"], 2003: [\"Australia\", \"India\"]}\n",
    "year = int(input(\"Enter year to check\"))\n",
    "country = input(\"Enter country name to be checked\")\n",
    "if year in world_cups:\n",
    "    if country in world_cups[year]:\n",
    "        print(\"Hurray {} made to the finals in {}\".format(country,year))\n",
    "    elif country in world_cups.values():\n",
    "        print(\"Sorry {} did not make to finals in {}\".format(country,year))\n",
    "    else:\n",
    "        print(\"country is not available\")\n",
    "else:\n",
    "    print(\"World cup was not played in {}\".format(year))"
   ]
  },
  {
   "cell_type": "code",
   "execution_count": 39,
   "id": "32b4b9c1",
   "metadata": {},
   "outputs": [
    {
     "name": "stdout",
     "output_type": "stream",
     "text": [
      "0\n"
     ]
    }
   ],
   "source": [
    "i\n",
    "print(i)"
   ]
  },
  {
   "cell_type": "code",
   "execution_count": 7,
   "id": "558f9d49",
   "metadata": {},
   "outputs": [
    {
     "name": "stdout",
     "output_type": "stream",
     "text": [
      "automobiles\n",
      "Honda\n",
      "Benz\n",
      "Suzuki\n",
      "Morris Garages\n"
     ]
    }
   ],
   "source": [
    "l=  [\"automobiles\", \"Honda\", \"Benz\", \"Suzuki\", \"Morris Garages\" ]\n",
    "for i in l:\n",
    "    print(i)"
   ]
  },
  {
   "cell_type": "code",
   "execution_count": 47,
   "id": "f353f4ec",
   "metadata": {},
   "outputs": [
    {
     "name": "stdout",
     "output_type": "stream",
     "text": [
      "A;n;d;h;r;a; ;P;r;a;d;e;s;h;"
     ]
    }
   ],
   "source": [
    "state = \"Andhra Pradesh\"\n",
    "for i in state:\n",
    "    print(i,end = \";\")"
   ]
  },
  {
   "cell_type": "code",
   "execution_count": 49,
   "id": "94dbe8a1",
   "metadata": {},
   "outputs": [
    {
     "name": "stdout",
     "output_type": "stream",
     "text": [
      "1 ['Sam', 24]\n",
      "2 ['Sharma', 25]\n",
      "3 ['Saina', 26]\n",
      "4 ['Saif', 24]\n",
      "5 ['Varun', 27]\n"
     ]
    }
   ],
   "source": [
    "students_data = {1:['Sam', 24] , 2:['Sharma',25], 3:['Saina', 26], 4:['Saif',24], 5:['Varun',27]}\n",
    "for key, val in students_data.items():\n",
    "    print(key, val)"
   ]
  },
  {
   "cell_type": "code",
   "execution_count": 23,
   "id": "67f22358",
   "metadata": {},
   "outputs": [
    {
     "name": "stdout",
     "output_type": "stream",
     "text": [
      "[0, 1, 2, 3, 4]\n",
      "[2, 6, 15, 4, 8]\n",
      "[2, 6, 15, 4, 8]\n"
     ]
    }
   ],
   "source": [
    "L1 = [10, 20, 30, 24, 18]\n",
    "L2 = [8, 14, 15, 20, 10] \n",
    "L3 = [0,1,2,3,4]\n",
    "print(L3)\n",
    "for i in L3:\n",
    "    L3[i] = L1[i]-L2[i]\n",
    "print(L3)\n",
    "L3 = [L1[i] - L2[i] for i  in range(0, len(L1))]\n",
    "print(L3)"
   ]
  },
  {
   "cell_type": "code",
   "execution_count": 72,
   "id": "a34c86d2",
   "metadata": {},
   "outputs": [
    {
     "name": "stdout",
     "output_type": "stream",
     "text": [
      "2 6 15 4 8 "
     ]
    }
   ],
   "source": [
    "i=0\n",
    "while i<len(L1):\n",
    "    print(L1[i]-L2[i],end=\" \")\n",
    "    i = i+1"
   ]
  },
  {
   "cell_type": "code",
   "execution_count": 66,
   "id": "f98fa074",
   "metadata": {},
   "outputs": [
    {
     "name": "stdout",
     "output_type": "stream",
     "text": [
      "range(1, 10)\n",
      "[1, 2, 3, 4, 5, 6, 7, 8, 9, 10, 11, 12, 13, 14, 15, 16, 17, 18, 19, 20, 21, 22, 23, 24, 25, 26, 27, 28, 29, 30, 31, 32, 33, 34, 35, 36, 37, 38, 39, 40, 41, 42, 43, 44, 45, 46, 47, 48, 49, 50, 51, 52, 53, 54, 55, 56, 57, 58, 59, 60, 61, 62, 63, 64, 65, 66, 67, 68, 69, 70, 71, 72, 73, 74, 75, 76, 77, 78, 79, 80, 81, 82, 83, 84, 85, 86, 87, 88, 89, 90, 91, 92, 93, 94, 95, 96, 97, 98, 99, 100]\n",
      "1\n",
      "2\n",
      "3\n",
      "4\n",
      "5\n",
      "6\n",
      "7\n",
      "8\n",
      "9\n",
      "10\n"
     ]
    }
   ],
   "source": [
    "print(range(1,10))\n",
    "l = list(range(1,101))\n",
    "print(l)\n",
    "for i in range(1,11):\n",
    "    print(i)"
   ]
  },
  {
   "cell_type": "code",
   "execution_count": 9,
   "id": "e8a35dc7",
   "metadata": {},
   "outputs": [
    {
     "name": "stdout",
     "output_type": "stream",
     "text": [
      "[11, 5, 4, 6, 14]\n"
     ]
    }
   ],
   "source": [
    "l1 = [\"automobiles\", \"Honda\", \"Benz\", \"Suzuki\", \"Morris Garages\" ]\n",
    "l2 = []\n",
    "for i in l1:\n",
    "    l2.append(len(i))\n",
    "print(l2)"
   ]
  },
  {
   "cell_type": "code",
   "execution_count": 22,
   "id": "8fe70c88",
   "metadata": {},
   "outputs": [
    {
     "name": "stdout",
     "output_type": "stream",
     "text": [
      "[11, 5, 4, 6, 14]\n",
      "automobiles  -  11\n",
      "Honda  -  5\n",
      "Benz  -  4\n",
      "Suzuki  -  6\n",
      "Morris Garages  -  14\n"
     ]
    }
   ],
   "source": [
    "l2 = [len(i) for i in l1]\n",
    "print(l2)\n",
    "\n",
    "for i,j in zip(l1,l2):\n",
    "    print(i,\" - \",j)"
   ]
  },
  {
   "cell_type": "code",
   "execution_count": 45,
   "id": "9e7feb24",
   "metadata": {},
   "outputs": [
    {
     "data": {
      "text/plain": [
       "(120, 'ji')"
      ]
     },
     "execution_count": 45,
     "metadata": {},
     "output_type": "execute_result"
    }
   ],
   "source": [
    "def f(n,hi=\"Hi\"):\n",
    "    \n",
    "    fact = 1\n",
    "    for i in range(1,n+1):\n",
    "        fact *=  i\n",
    "    return fact,hi\n",
    "    \n",
    "f(n=5,hi =\"ji\")"
   ]
  },
  {
   "cell_type": "code",
   "execution_count": 1,
   "id": "da2c411f",
   "metadata": {},
   "outputs": [
    {
     "data": {
      "text/plain": [
       "[2, 6, 15, 4, 8]"
      ]
     },
     "execution_count": 1,
     "metadata": {},
     "output_type": "execute_result"
    }
   ],
   "source": [
    "L1 = [10, 20, 30, 24, 18]\n",
    "L2 = [8, 14, 15, 20, 10] \n",
    "def savings(l1,l2):\n",
    "    \n",
    "    l3 = [l1[i]-l2[i] for i in range(len(l1))]\n",
    "    return l3\n",
    "savings(L1,L2)"
   ]
  },
  {
   "cell_type": "code",
   "execution_count": 8,
   "id": "e30bba3c",
   "metadata": {},
   "outputs": [
    {
     "name": "stdout",
     "output_type": "stream",
     "text": [
      "1\n"
     ]
    },
    {
     "data": {
      "text/plain": [
       "6"
      ]
     },
     "execution_count": 8,
     "metadata": {},
     "output_type": "execute_result"
    }
   ],
   "source": [
    "def sum(a,b):\n",
    "    return a+b\n",
    "print(sum(10,-9))\n",
    "\n",
    "x = lambda y,z : y*z\n",
    "x(2,3)"
   ]
  },
  {
   "cell_type": "code",
   "execution_count": 14,
   "id": "f4972111",
   "metadata": {},
   "outputs": [
    {
     "data": {
      "text/plain": [
       "'odd'"
      ]
     },
     "execution_count": 14,
     "metadata": {},
     "output_type": "execute_result"
    }
   ],
   "source": [
    "x = lambda y,z : \"even\" if (y+z) % 2 == 0 else \"odd\"\n",
    "x(5,10)"
   ]
  },
  {
   "cell_type": "code",
   "execution_count": 16,
   "id": "17854d60",
   "metadata": {},
   "outputs": [
    {
     "name": "stdout",
     "output_type": "stream",
     "text": [
      "[2, 4, 6, 8]\n"
     ]
    }
   ],
   "source": [
    "list_numbers = (1,2,3,4)\n",
    "sample_map = map(lambda x: x*2, list_numbers)\n",
    "print(list(sample_map))"
   ]
  },
  {
   "cell_type": "code",
   "execution_count": 21,
   "id": "1e9fc3c7",
   "metadata": {},
   "outputs": [
    {
     "name": "stdout",
     "output_type": "stream",
     "text": [
      "<map object at 0x000001C21282EC70>\n",
      "[2, 4, 6, 8]\n"
     ]
    }
   ],
   "source": [
    "def mult(x):\n",
    "    return x*2\n",
    "samp_map = map(mult,list_numbers)\n",
    "print(samp_map)\n",
    "print(list(samp_map))"
   ]
  },
  {
   "cell_type": "code",
   "execution_count": 23,
   "id": "aa051cd3",
   "metadata": {},
   "outputs": [
    {
     "data": {
      "text/plain": [
       "['Aman', 'Akash']"
      ]
     },
     "execution_count": 23,
     "metadata": {},
     "output_type": "execute_result"
    }
   ],
   "source": [
    "name = ['Harshit','Aman','Akash']\n",
    "list(filter(lambda x : x.startswith(\"A\"), name))"
   ]
  },
  {
   "cell_type": "code",
   "execution_count": 24,
   "id": "7d55e297",
   "metadata": {},
   "outputs": [
    {
     "name": "stdout",
     "output_type": "stream",
     "text": [
      "6\n"
     ]
    }
   ],
   "source": [
    "from functools import reduce\n",
    "\n",
    "q  = reduce(lambda x, y: x*y, range(1,4))\n",
    "\n",
    "print(q)"
   ]
  }
 ],
 "metadata": {
  "kernelspec": {
   "display_name": "Python 3 (ipykernel)",
   "language": "python",
   "name": "python3"
  },
  "language_info": {
   "codemirror_mode": {
    "name": "ipython",
    "version": 3
   },
   "file_extension": ".py",
   "mimetype": "text/x-python",
   "name": "python",
   "nbconvert_exporter": "python",
   "pygments_lexer": "ipython3",
   "version": "3.9.7"
  }
 },
 "nbformat": 4,
 "nbformat_minor": 5
}
