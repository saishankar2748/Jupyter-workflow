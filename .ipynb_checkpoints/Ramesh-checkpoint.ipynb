{
 "cells": [
  {
   "cell_type": "markdown",
   "id": "cccffbd0",
   "metadata": {},
   "source": [
    "# <p style=\"color:blue\">Data Types </p>\n",
    "\n"
   ]
  },
  {
   "cell_type": "code",
   "execution_count": 1,
   "id": "80110979",
   "metadata": {},
   "outputs": [],
   "source": [
    "int = 9\n",
    "float = 1.32\n",
    "string = \"Sharada\"\n",
    "bollean = True"
   ]
  },
  {
   "cell_type": "markdown",
   "id": "8b049d3e",
   "metadata": {},
   "source": [
    "# <p style=\"color:blue\">Arthmatic operations</p>\n",
    "presedence rule = () > ** > // > % > / > * > + > -"
   ]
  },
  {
   "cell_type": "markdown",
   "id": "02741497",
   "metadata": {},
   "source": [
    " # <font color = blue> String Operations </font>\n",
    " -  Strings are immutable\n",
    " -  Indexing in String = string[index value] <br> can also be a negative value(reverse indexing)\n",
    " -  \"+\" is used to concatinate the strings\n",
    " -  Slicing in string = string[start:end:skip]\n",
    " -  Membership operator = \"john\" in string\n",
    " -  Repetation = string*4\n",
    " -  Strring methods :-\n",
    "     -  string.upper()\n",
    "     -  string.lower()\n",
    "     -  string.lstrip().rstrip() or .strip(\"i\")\n",
    "     -  string.split(' ') <br> will return a list data type\n",
    "     -  string.count('i',strating index)\n",
    "     -  print('i am {0} years and {1} months old'.format(A,B) )<br>format function will take care of type casting\n",
    "     -  more methods - help(str)"
   ]
  },
  {
   "cell_type": "markdown",
   "id": "c3406ccf",
   "metadata": {},
   "source": [
    "# <p style=\"color:blue\"> Tuples </p>\n",
    "-  tuples are immutable\n",
    "-  indexing in tuples :- tup[index_value] <br>\n",
    "    can also be reverse index\n",
    "-  slicing in tuples :- tup[0:5] <br>\n",
    "    return values in a tuple datatype\n",
    "-  concatination is done by using \"+\"\n",
    "-  tuples can be altered by slicing a tuple and concatinating to give a new tuple\n",
    "-  packing and unpacking can be done with tuples <br>(a,b,c) = tup\n",
    "-  membership operator >> 3 in tupe\n",
    "-  sorted(tupe) >> returns list of sort elements <br> can be typecasted back to tuple (this is a function)\n",
    "-  sum(),min(),max() >> returns int values\n",
    "(a,b,c) = tup\n",
    "-  Tuple methods:-\n",
    "    -  print(dir(tup)) >> returns list of all functions of tuple\n",
    "    -  help(tup) >> gives detailed functions of tuple"
   ]
  },
  {
   "cell_type": "markdown",
   "id": "10b5fca2",
   "metadata": {},
   "source": [
    "# <p style=\"color:blue\"> Lists </p>\n",
    "-  Lists are mutable <br> lis[2] = 'married' <br> del[2] >> deletes specified element\n",
    "-  indexing in lists >> lis[index_value] <br>can also be reverse index\n",
    "-  slicing in lists >> lis[start:end] <br> returns list\n",
    "-  cocatination can be done by \"+\"\n",
    "-  membership operator >> \"sai\" in lis\n",
    "-  deep copy >> B = A >> points same address\n",
    "-  shallow copy >>performed by end to end slicing and assigning <br> B = A[:] >> does not point the address but assigns new address\n",
    "-  sorted(lis) >>returns list of sort elements \n",
    "-  List methods :-\n",
    "    -  lis.extend() >> adds iterable elements individually\n",
    "    -  lis.append() >> adds iterable elements as an object\n",
    "    -  lis.pop(index) >> removes last object in list\n",
    "    -  lis.remove(value) >> removes specified element\n",
    "    -  lis.sort() >> sorts in place"
   ]
  },
  {
   "cell_type": "markdown",
   "id": "2aeb0d1e",
   "metadata": {},
   "source": [
    "# <p style=\"color:blue\"> Sets </p>\n",
    "-  Sets are mutabel <br> a.add(1)\n",
    "-  sets are unordered so indexing and slicing are not possible\n",
    "-  sets does not allow duplicates\n",
    "-  set methods:-\n",
    "    -  a.add(value) >> adds element\n",
    "    -  a.remove(value) >> removes element\n",
    "    -  a.union(b) >> union\n",
    "    -  a.intersection(b) >> intersection\n",
    "    -  a.difference(b) >> difference"
   ]
  },
  {
   "cell_type": "markdown",
   "id": "e05c5321",
   "metadata": {},
   "source": [
    "# <p style=\"color:blue\"> Dictoinaries </p>\n",
    "-  Dictionary stores element as keys and values pairs.\n",
    "-  keys are unique and immutable whereas values are mutable, immutable\n",
    "-  keys act as index and can be used to access the value\n",
    "-  d[\"India\"] = \"Rs\" >> if key already present then value is updated or else it would be added to dic\n",
    "-  del[key] >> deletes key as well as value\n",
    "-  sorted(d) >> returns a list of sorted keys\n",
    "-  Dictoinary methods:-\n",
    "    -  d.keys() >> prints list all the keys\n",
    "    -  d.values() >> prints list all the values\n",
    "    -  d.items() >> prints list of all key value pairs\n",
    "    -  d.update({key:value}) >> updates specified key\n",
    "    -  d.get(3,\"NA\")"
   ]
  },
  {
   "cell_type": "markdown",
   "id": "6e1ff238",
   "metadata": {},
   "source": [
    "# <p style=\"color:blue\"> Control Structures </p>\n",
    "    1. Decision Making(if-else statements)\n",
    "    2. Iteration for and while loops\n",
    "    3. list and dictionary comprehensions\n",
    "-  ## Decision Making(if-else statements)\n",
    "    -  binary oparators >> a+b,a-b\n",
    "        - relational operators >> used to compare values and return boolean value <br> 10 == 9 >> returns false\n",
    "        -  logical operators >> combine multiple relational operators togather <br> include 'and','or','not'\n",
    "    -  Tips: <br> When there is more than one condition to check, and you need to:\n",
    "        1. Just return a boolean functionality, i.e., 'Yes' or 'No'; you use logical operators in a single if-else construct.\n",
    "        2. Perform a different operation at each condition involving a single variable; you use an if-elif-else condition.\n",
    "        3. Perform a different operation in each condition involving different variables; you use a nested if-else construct.\n",
    "-  for and while loops\n",
    "-  list and dictionary comprehensions"
   ]
  },
  {
   "cell_type": "markdown",
   "id": "5be4c3d9",
   "metadata": {},
   "source": [
    "-  ## Iteration(for and while loops)\n",
    "    1. counter driven(for):- used when no of iterations are known <br>>> iterates over fixed set of values provided in the form of iterable objects<br> >> Iterable objects can be generated using 'range()' function >> range(start,end,stepcount)<br> >> to print range of values range func can be converted into list or it can be traversed through for loop\n",
    "        \n",
    "    2. event based(while):- used when no of iterations are unknown"
   ]
  },
  {
   "cell_type": "markdown",
   "id": "df6b238a",
   "metadata": {},
   "source": [
    "-  ## comprihension\n",
    "    1. list comprihension<br>>>  l2 = [len(i) for i in l1]\n",
    "    2. set comprihension<br>>>  vowels = {i for i in word if i in \"aeiou\"}\n",
    "    3. dict comprihension<br>>>  d = {i : len(i) for i in l1}\n",
    "## dataType = expression loops conditions\n",
    "\n",
    "\n"
   ]
  },
  {
   "cell_type": "code",
   "execution_count": 2,
   "id": "87daf713",
   "metadata": {},
   "outputs": [
    {
     "name": "stdout",
     "output_type": "stream",
     "text": [
      "['apple', 'banana', 'water melon']\n"
     ]
    }
   ],
   "source": [
    "list1 = [\"apple\",\"banana\",\"cherry\",\"water melon\"]\n",
    "new_list =[]\n",
    "for i in list1:\n",
    "    if \"a\" in i:\n",
    "        new_list.append(i)\n",
    "print(new_list)"
   ]
  },
  {
   "cell_type": "code",
   "execution_count": 3,
   "id": "d71fb6b3",
   "metadata": {},
   "outputs": [
    {
     "data": {
      "text/plain": [
       "['apple', 'banana', 'water melon']"
      ]
     },
     "execution_count": 3,
     "metadata": {},
     "output_type": "execute_result"
    }
   ],
   "source": [
    "new_list = [i for i in list1 if 'a' in i]\n",
    "new_list"
   ]
  },
  {
   "cell_type": "code",
   "execution_count": 4,
   "id": "db535945",
   "metadata": {},
   "outputs": [
    {
     "data": {
      "text/plain": [
       "{1: 1, 2: 4, 3: 9, 4: 16, 5: 25, 6: 36, 7: 49, 8: 64, 9: 81}"
      ]
     },
     "execution_count": 4,
     "metadata": {},
     "output_type": "execute_result"
    }
   ],
   "source": [
    "dict1 = {i:i*i for i in range(1,10)}\n",
    "dict1"
   ]
  },
  {
   "cell_type": "markdown",
   "id": "c5d8c887",
   "metadata": {},
   "source": [
    "# <p style=\"color:blue\"> Python functions</p>\n",
    "    >> A block of organized, reusable code to perform a particulat action\n",
    "-  buit-in functions >> print(), sorted(), input() etc\n",
    "-  user-defined functions \n",
    "-  parameters >> variables used while defining the function\n",
    "-  arguments >> values used while calling this function \n",
    "-  4 types of function paramenters\n",
    "    1.  Required parameter >> max(lis),sorted(stri),..... <br> arguments should be passed while calling function\n",
    "    2. Default arguments <br>not necesarry\n",
    "    3. Keyword parameter >> print(lis,end=\":\") <br>while passing key word should be mentioned\n",
    "    4. Variable length parameters>> fun(args,*args) <br> These enable the function to accept multiple arguments.\n",
    "## def function_name(any number of parameters):<br>\n",
    "###           return()"
   ]
  },
  {
   "cell_type": "code",
   "execution_count": 1,
   "id": "d3cd0ed0",
   "metadata": {},
   "outputs": [
    {
     "name": "stdout",
     "output_type": "stream",
     "text": [
      "Hello sai ('sharada', 'ramesh') welcome to gattu family\n",
      "Hello sandhya () welcome to gattu family\n",
      "Hello santosh () welcome to gattu family\n"
     ]
    }
   ],
   "source": [
    "def my_fun(name,*name1):\n",
    "    print(\"Hello {} {} welcome to gattu family\".format(name,name1))\n",
    "my_fun(\"sai\",\"sharada\",\"ramesh\")\n",
    "my_fun(\"sandhya\")\n",
    "my_fun(\"santosh\")"
   ]
  },
  {
   "cell_type": "code",
   "execution_count": 5,
   "id": "357b8ec6",
   "metadata": {
    "scrolled": true
   },
   "outputs": [
    {
     "name": "stdout",
     "output_type": "stream",
     "text": [
      "('name', 'Sai')\n",
      "('age', 20)\n",
      "('location', 'Kosigi')\n",
      "{'name': 'Sai', 'age': 20, 'location': 'Kosigi'}\n"
     ]
    }
   ],
   "source": [
    "def my_f(**dct1):\n",
    "    \"\"\"hello\"\"\"\n",
    "    for i in dct1.items():\n",
    "        print(i)\n",
    "    print(dct1)\n",
    "my_f(name = \"Sai\",age =20,location=\"Kosigi\")\n"
   ]
  },
  {
   "cell_type": "markdown",
   "id": "f2940487",
   "metadata": {},
   "source": [
    "# <p style = \"color : blue\"> Lambda function </p>\n",
    "## var = lambda parameters : expression\n",
    "-  also called as anonymous functions since they don't have any name\n",
    "-  here var holds function object and can be called with arguments"
   ]
  },
  {
   "cell_type": "code",
   "execution_count": 7,
   "id": "b9fbdedc",
   "metadata": {},
   "outputs": [
    {
     "data": {
      "text/plain": [
       "3.0"
      ]
     },
     "execution_count": 7,
     "metadata": {},
     "output_type": "execute_result"
    }
   ],
   "source": [
    "x = lambda x,y : (x+y)/2\n",
    "x(2,4)"
   ]
  },
  {
   "cell_type": "code",
   "execution_count": 8,
   "id": "c568faae",
   "metadata": {},
   "outputs": [
    {
     "name": "stdout",
     "output_type": "stream",
     "text": [
      "8\n"
     ]
    }
   ],
   "source": [
    "def myfunc1(x):\n",
    "    return lambda y : x*y\n",
    "f1 = myfunc1(4)\n",
    "print(f1(2))\n"
   ]
  },
  {
   "cell_type": "code",
   "execution_count": 9,
   "id": "d3c339ab",
   "metadata": {},
   "outputs": [
    {
     "name": "stdout",
     "output_type": "stream",
     "text": [
      "peifn hfoewf jlf:jejf\n"
     ]
    }
   ],
   "source": [
    "string = \"PEifn HFoewf JLF:Jejf\"\n",
    "def myf(low):\n",
    "    return low.lower()\n",
    "\n",
    "y = lambda x:x.lower()\n",
    "print(y(string))"
   ]
  },
  {
   "cell_type": "markdown",
   "id": "c82c9df5",
   "metadata": {},
   "source": [
    "## <p style = \"color:blue\" >Lambda with if conditions and for loops </p>\n",
    "### var = lambda parameter : \"output of if\" if condition else \"output of else\" \n",
    "### var = lambda parameter : [\"output\" for loop]"
   ]
  },
  {
   "cell_type": "code",
   "execution_count": 10,
   "id": "d98fe4ae",
   "metadata": {},
   "outputs": [
    {
     "data": {
      "text/plain": [
       "4"
      ]
     },
     "execution_count": 10,
     "metadata": {},
     "output_type": "execute_result"
    }
   ],
   "source": [
    "f = lambda a,b : a if a>b else b #returns greater of both argumets\n",
    "f(2,4)"
   ]
  },
  {
   "cell_type": "code",
   "execution_count": 8,
   "id": "ec5f8c1a",
   "metadata": {},
   "outputs": [
    {
     "name": "stdout",
     "output_type": "stream",
     "text": [
      "[[1, 2, 4], [3, 5, 7], [5, 8, 9]]\n",
      "[2, 5, 8]\n"
     ]
    }
   ],
   "source": [
    "list1 = [[1,4,2],[7,5,3],[9,8,5]]\n",
    "\n",
    "sort_list = lambda list2 : [sorted(i) for i in list2]\n",
    "print(sort_list(list1))\n",
    "\n",
    "second_largest = lambda x,y : [i[len(i)-2] for i in y(x)]\n",
    "res = second_largest(list1,sort_list)\n",
    "print(res)"
   ]
  },
  {
   "cell_type": "code",
   "execution_count": 12,
   "id": "f0a8dd69",
   "metadata": {},
   "outputs": [
    {
     "data": {
      "text/plain": [
       "[4, 5, 8]"
      ]
     },
     "execution_count": 12,
     "metadata": {},
     "output_type": "execute_result"
    }
   ],
   "source": [
    "sorted(list(map(lambda x:x[len(x)-2],list1)))"
   ]
  },
  {
   "cell_type": "markdown",
   "id": "5c4fa183",
   "metadata": {},
   "source": [
    "# <p style = \"color:blue\" > map,filter,reduce functions  </p>\n",
    "    1. map() \n",
    "    2. filter() \n",
    "    3. reduce()\n",
    "1. map(function,iterable object)\n",
    "    -  utility function in python\n",
    "    -  maps a collection to another collection object  based on certain functionality\n",
    "2. filter(function,iterable object)\n",
    "    -  filters on certain condition\n",
    "    -  the function object passed to the filter function should always return a boolean value\n",
    "3. reduce(function,iterable object)\n",
    "    -  the 'reduce' function produces a single output\n",
    "    -  the function object passed to the reduce function decides what expression is passed to the iterable object.\n",
    "    -  from functools import reduce\n",
    "    -  function object should always have 2 parameters"
   ]
  },
  {
   "cell_type": "code",
   "execution_count": 13,
   "id": "c2631b22",
   "metadata": {},
   "outputs": [
    {
     "name": "stdout",
     "output_type": "stream",
     "text": [
      "<map object at 0x00000234EF90E9D0>\n",
      "[1, 4, 9, 16, 81, 64, 16, 25, 36, 5929]\n"
     ]
    }
   ],
   "source": [
    "list1=[1,2,3,4,9,8,4,5,6,77]\n",
    "def square(x):\n",
    "    return x*x\n",
    "print(map(square,list1))\n",
    "print(list(map(square,list1)))"
   ]
  },
  {
   "cell_type": "code",
   "execution_count": 14,
   "id": "72a80c91",
   "metadata": {},
   "outputs": [
    {
     "data": {
      "text/plain": [
       "[1, 4, 9, 16, 81, 64, 16, 25, 36, 5929]"
      ]
     },
     "execution_count": 14,
     "metadata": {},
     "output_type": "execute_result"
    }
   ],
   "source": [
    "list(map(lambda x : x*x,list1))"
   ]
  },
  {
   "cell_type": "code",
   "execution_count": 15,
   "id": "85292b08",
   "metadata": {},
   "outputs": [
    {
     "data": {
      "text/plain": [
       "[9, 8, 5, 6, 77]"
      ]
     },
     "execution_count": 15,
     "metadata": {},
     "output_type": "execute_result"
    }
   ],
   "source": [
    "list(filter(lambda x:x>=5,list1))"
   ]
  },
  {
   "cell_type": "code",
   "execution_count": 18,
   "id": "742bf63b",
   "metadata": {},
   "outputs": [
    {
     "name": "stdout",
     "output_type": "stream",
     "text": [
      "WELCOME YOU ALL TO TA SESSION ON 9TH 2022\n",
      "Wlcm y ll t t sssn n 9th 2022\n",
      "45\n"
     ]
    }
   ],
   "source": [
    "from functools import reduce\n",
    "my_str = \"Welcome you all to ta session on 9th 2022\"\n",
    "print(\"\".join(list(map(lambda x:x.upper(),my_str))))\n",
    "print(''.join(filter(lambda x:x.lower() not in ('a','e','i','o','u'),my_str)))\n",
    "print(reduce(lambda x,y:x+y,range(1,10)))\n"
   ]
  },
  {
   "cell_type": "code",
   "execution_count": 17,
   "id": "a2f9c723",
   "metadata": {},
   "outputs": [
    {
     "ename": "TypeError",
     "evalue": "'int' object is not callable",
     "output_type": "error",
     "traceback": [
      "\u001b[1;31m---------------------------------------------------------------------------\u001b[0m",
      "\u001b[1;31mTypeError\u001b[0m                                 Traceback (most recent call last)",
      "\u001b[1;32m~\\AppData\\Local\\Temp/ipykernel_32684/2237449825.py\u001b[0m in \u001b[0;36m<module>\u001b[1;34m\u001b[0m\n\u001b[0;32m     24\u001b[0m \u001b[1;33m\u001b[0m\u001b[0m\n\u001b[0;32m     25\u001b[0m \u001b[1;33m\u001b[0m\u001b[0m\n\u001b[1;32m---> 26\u001b[1;33m \u001b[0memp_1\u001b[0m\u001b[1;33m.\u001b[0m\u001b[0mapply_raise\u001b[0m\u001b[1;33m(\u001b[0m\u001b[1;33m)\u001b[0m\u001b[1;33m\u001b[0m\u001b[1;33m\u001b[0m\u001b[0m\n\u001b[0m\u001b[0;32m     27\u001b[0m \u001b[0mprint\u001b[0m\u001b[1;33m(\u001b[0m\u001b[0memp_1\u001b[0m\u001b[1;33m.\u001b[0m\u001b[0mpay\u001b[0m\u001b[1;33m)\u001b[0m\u001b[1;33m\u001b[0m\u001b[1;33m\u001b[0m\u001b[0m\n\u001b[0;32m     28\u001b[0m \u001b[0memp_2\u001b[0m\u001b[1;33m.\u001b[0m\u001b[0mraise_amount\u001b[0m \u001b[1;33m=\u001b[0m \u001b[1;36m1.05\u001b[0m\u001b[1;33m\u001b[0m\u001b[1;33m\u001b[0m\u001b[0m\n",
      "\u001b[1;32m~\\AppData\\Local\\Temp/ipykernel_32684/2237449825.py\u001b[0m in \u001b[0;36mapply_raise\u001b[1;34m(self)\u001b[0m\n\u001b[0;32m     12\u001b[0m         \u001b[1;32mreturn\u001b[0m \u001b[1;34m'{} {}'\u001b[0m\u001b[1;33m.\u001b[0m\u001b[0mformat\u001b[0m\u001b[1;33m(\u001b[0m\u001b[0mself\u001b[0m\u001b[1;33m.\u001b[0m\u001b[0mfname\u001b[0m\u001b[1;33m,\u001b[0m\u001b[0mself\u001b[0m\u001b[1;33m.\u001b[0m\u001b[0mlast\u001b[0m\u001b[1;33m)\u001b[0m\u001b[1;33m\u001b[0m\u001b[1;33m\u001b[0m\u001b[0m\n\u001b[0;32m     13\u001b[0m     \u001b[1;32mdef\u001b[0m \u001b[0mapply_raise\u001b[0m\u001b[1;33m(\u001b[0m\u001b[0mself\u001b[0m\u001b[1;33m)\u001b[0m\u001b[1;33m:\u001b[0m\u001b[1;33m\u001b[0m\u001b[1;33m\u001b[0m\u001b[0m\n\u001b[1;32m---> 14\u001b[1;33m         \u001b[0mself\u001b[0m\u001b[1;33m.\u001b[0m\u001b[0mpay\u001b[0m \u001b[1;33m=\u001b[0m \u001b[0mint\u001b[0m\u001b[1;33m(\u001b[0m\u001b[0mself\u001b[0m\u001b[1;33m.\u001b[0m\u001b[0mpay\u001b[0m \u001b[1;33m*\u001b[0m \u001b[0mself\u001b[0m\u001b[1;33m.\u001b[0m\u001b[0mraise_amount\u001b[0m\u001b[1;33m)\u001b[0m\u001b[1;33m\u001b[0m\u001b[1;33m\u001b[0m\u001b[0m\n\u001b[0m\u001b[0;32m     15\u001b[0m     \u001b[1;33m@\u001b[0m\u001b[0mclassmethod\u001b[0m\u001b[1;33m\u001b[0m\u001b[1;33m\u001b[0m\u001b[0m\n\u001b[0;32m     16\u001b[0m     \u001b[1;32mdef\u001b[0m \u001b[0mfrom_string\u001b[0m\u001b[1;33m(\u001b[0m\u001b[0mcls\u001b[0m\u001b[1;33m,\u001b[0m\u001b[0memp_str\u001b[0m\u001b[1;33m)\u001b[0m\u001b[1;33m:\u001b[0m\u001b[1;33m\u001b[0m\u001b[1;33m\u001b[0m\u001b[0m\n",
      "\u001b[1;31mTypeError\u001b[0m: 'int' object is not callable"
     ]
    }
   ],
   "source": [
    "class Employee:\n",
    "    no_of_emp = 0\n",
    "    raise_amount = 1.04\n",
    "    terror = 'sandhya'\n",
    "    def __init__ (self,first,last,pay):\n",
    "        self.fname = first\n",
    "        self.last = last\n",
    "        self.pay = pay\n",
    "        self.email = first+ '.' + last + '@company.com' \n",
    "        Employee.no_of_emp += 1\n",
    "    def fullname(self):\n",
    "        return '{} {}'.format(self.fname,self.last)\n",
    "    def apply_raise(self):\n",
    "        self.pay = int(self.pay * self.raise_amount)\n",
    "    @classmethod\n",
    "    def from_string(cls,emp_str):\n",
    "        first,last,pay = emp_str.split('-')\n",
    "        return (cls(first,last,pay))\n",
    "        \n",
    "        \n",
    "emp_1 = Employee(\"sai\",\"shankar\",50000)\n",
    "emp_2 = Employee(\"sharada\",\"vani\",100000)\n",
    "\n",
    "\n",
    "\n",
    "emp_1.apply_raise()\n",
    "print(emp_1.pay)\n",
    "emp_2.raise_amount = 1.05\n",
    "emp_2.apply_raise()\n",
    "print(emp_2.pay)\n",
    "str_emp1 = 'ramesh-gattu-200000'\n",
    "new_emp1 = Employee.from_string(str_emp1)\n",
    "print(new_emp1.email)"
   ]
  },
  {
   "cell_type": "code",
   "execution_count": null,
   "id": "94765693",
   "metadata": {},
   "outputs": [],
   "source": []
  }
 ],
 "metadata": {
  "kernelspec": {
   "display_name": "Python 3 (ipykernel)",
   "language": "python",
   "name": "python3"
  },
  "language_info": {
   "codemirror_mode": {
    "name": "ipython",
    "version": 3
   },
   "file_extension": ".py",
   "mimetype": "text/x-python",
   "name": "python",
   "nbconvert_exporter": "python",
   "pygments_lexer": "ipython3",
   "version": "3.9.7"
  }
 },
 "nbformat": 4,
 "nbformat_minor": 5
}
