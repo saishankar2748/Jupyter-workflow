{
 "cells": [
  {
   "cell_type": "code",
   "execution_count": 2,
   "id": "bba25113",
   "metadata": {},
   "outputs": [
    {
     "name": "stdout",
     "output_type": "stream",
     "text": [
      "<class 'str'>\n",
      "Ramesh\n"
     ]
    }
   ],
   "source": [
    "#variable declaration\n",
    "name = \"Sandhya\"\n",
    "print(type(name))\n",
    "name = \"Ramesh\"\n",
    "print(name)"
   ]
  },
  {
   "cell_type": "code",
   "execution_count": 15,
   "id": "a4cd6934",
   "metadata": {},
   "outputs": [
    {
     "name": "stdout",
     "output_type": "stream",
     "text": [
      "Enter your name:Sandhya\n",
      "Hello Sandhya\n"
     ]
    }
   ],
   "source": [
    "name1 = input(\"Enter your name:\")\n",
    "print(\"Hello\",name1)"
   ]
  },
  {
   "cell_type": "code",
   "execution_count": 18,
   "id": "879ce991",
   "metadata": {},
   "outputs": [
    {
     "name": "stdout",
     "output_type": "stream",
     "text": [
      "is sandhya married:false\n",
      "True\n",
      "<class 'bool'>\n"
     ]
    }
   ],
   "source": [
    "result = bool(input('is sandhya married:'))\n",
    "print(result)\n",
    "print(type(result))"
   ]
  },
  {
   "cell_type": "markdown",
   "id": "d59f8510",
   "metadata": {},
   "source": [
    "In your usage, converting a string to a bool will not be a solution that will work. In Python, if you convert a string to a bool, for example: bool(\"False\") the boolean value will be True, this is because if you convert a non-empty string to a bool it will always convert to True, but if you try to convert an empty string to a bool you'll get False."
   ]
  },
  {
   "cell_type": "code",
   "execution_count": 17,
   "id": "0127e8eb",
   "metadata": {},
   "outputs": [
    {
     "name": "stdout",
     "output_type": "stream",
     "text": [
      "is sandhya married? (yes/no)yes  \n",
      "True\n",
      "<class 'bool'>\n"
     ]
    }
   ],
   "source": [
    "result1 = input(\"is sandhya married? (yes/no)\").lower().strip()=='yes'\n",
    "print(result1)\n",
    "print(type(result1))"
   ]
  },
  {
   "cell_type": "code",
   "execution_count": null,
   "id": "ff263057",
   "metadata": {},
   "outputs": [],
   "source": [
    "Result is always bool;\n",
    "Capitals are ignored;\n",
    "True only if it contains yes and maybe some spaces;\n",
    "Everything else equals to False;"
   ]
  },
  {
   "cell_type": "code",
   "execution_count": 32,
   "id": "3c9e60d5",
   "metadata": {},
   "outputs": [
    {
     "name": "stdout",
     "output_type": "stream",
     "text": [
      "<class 'float'>\n",
      "<class 'int'>\n",
      "<class 'str'>\n",
      "<class 'bool'>\n",
      "True\n"
     ]
    }
   ],
   "source": [
    "# Type casting\n",
    "x=2.44\n",
    "print(type(x))\n",
    "print(type(int(x)))\n",
    "print(type(str(x)))\n",
    "print((type(bool(x))))\n",
    "y=bool(x)\n",
    "print(y)"
   ]
  },
  {
   "cell_type": "code",
   "execution_count": 48,
   "id": "409b78ad",
   "metadata": {},
   "outputs": [
    {
     "name": "stdout",
     "output_type": "stream",
     "text": [
      "s\n",
      "i am happy\n",
      "fdg\n",
      "True\n",
      "asfsdngiasfsdngi\n"
     ]
    }
   ],
   "source": [
    "# string operations\n",
    "string =\"asfsdngi\"\n",
    "print(string[-7])\n",
    "print('i am '+''+'happy')\n",
    "print(string[2:7:2])\n",
    "print(\"as\" in string)\n",
    "print(string*2)"
   ]
  },
  {
   "cell_type": "code",
   "execution_count": 70,
   "id": "95f47c95",
   "metadata": {},
   "outputs": [
    {
     "name": "stdout",
     "output_type": "stream",
     "text": [
      "   ***SANDYA GOT A JOB###   \n",
      "   ***sandya got a job###   \n",
      "***Sandya got a Job###\n",
      "   ***Sandya got a Job###\n",
      "***Sandya got a Job\n",
      "SANDYA GOT A JOB\n"
     ]
    }
   ],
   "source": [
    "#strip function\n",
    "string1 = \"   ***Sandya got a Job###   \"\n",
    "print(string1.upper())\n",
    "print(string1.lower())\n",
    "print(string1.strip())\n",
    "print(string1.rstrip())\n",
    "print(string1.strip().rstrip('#'))\n",
    "print(string1.strip().lstrip('*').rstrip('#').upper())"
   ]
  },
  {
   "cell_type": "code",
   "execution_count": 86,
   "id": "d64f66ab",
   "metadata": {},
   "outputs": [
    {
     "name": "stdout",
     "output_type": "stream",
     "text": [
      "['***Sandya', 'got', 'a', 'Job###']\n",
      "['   ***S', 'ndy', ' got ', ' Job###   ']\n"
     ]
    }
   ],
   "source": [
    "print(string1.split())\n",
    "print(string1.split('a'))"
   ]
  },
  {
   "cell_type": "code",
   "execution_count": 78,
   "id": "d40ffa30",
   "metadata": {},
   "outputs": [
    {
     "name": "stdout",
     "output_type": "stream",
     "text": [
      "2\n",
      "1\n"
     ]
    }
   ],
   "source": [
    "#count function\n",
    "print(string1.count('o'))\n",
    "print(string1.count('o',-9))"
   ]
  },
  {
   "cell_type": "code",
   "execution_count": 81,
   "id": "ff689c92",
   "metadata": {},
   "outputs": [
    {
     "name": "stdout",
     "output_type": "stream",
     "text": [
      "I am Raja and I am a 13year old male dog\n"
     ]
    }
   ],
   "source": [
    "age = 13\n",
    "sex = \"male\"\n",
    "name = \"Raja\"\n",
    "print('I am {0} and I am a {1}year old {2} dog'.format(name,age,sex))"
   ]
  },
  {
   "cell_type": "code",
   "execution_count": 94,
   "id": "19bb81b0",
   "metadata": {},
   "outputs": [
    {
     "name": "stdout",
     "output_type": "stream",
     "text": [
      "(1,)\n",
      "<class 'tuple'>\n"
     ]
    }
   ],
   "source": [
    "tup1 = 1,2,'sai',0.99\n",
    "tup = 1,\n",
    "tup = (1,)\n",
    "print(tup)\n",
    "print(type(tup))"
   ]
  },
  {
   "cell_type": "code",
   "execution_count": 111,
   "id": "3de1ef6d",
   "metadata": {},
   "outputs": [
    {
     "name": "stdout",
     "output_type": "stream",
     "text": [
      "sai\n",
      "('sai', 0.99)\n",
      "(1, 1, 2, 'sai', 0.99)\n",
      "5\n",
      "(1, 1, 2, 'sai', 'shankar', 0.99)\n",
      "1\n",
      "<class 'str'>\n"
     ]
    }
   ],
   "source": [
    "print(tup1[2])\n",
    "print(tup1[-2:])\n",
    "tup_2 = tup + tup1\n",
    "print(tup_2)\n",
    "print(len(tup_2))\n",
    "new_tup = tup_2[:4]+ (\"shankar\",)+tup_2[4:]\n",
    "print(new_tup)\n",
    "print(sum(tup))\n",
    "print(type(new_tup[3]))"
   ]
  },
  {
   "cell_type": "code",
   "execution_count": 11,
   "id": "f578559f",
   "metadata": {},
   "outputs": [
    {
     "name": "stdout",
     "output_type": "stream",
     "text": [
      "[2, 2, 3, 3, 4, 45]\n",
      "(3, 2, 4, 2, 3, 45)\n",
      "(2, 2, 3, 3, 4, 45)\n",
      "True\n"
     ]
    }
   ],
   "source": [
    "tupe=3,2,4,2,3,45\n",
    "x = sorted(tupe)\n",
    "print(sorted(tupe))\n",
    "print(tupe)\n",
    "new_tupe = tuple(x)\n",
    "print(new_tupe)\n",
    "print(3 in new_tupe)"
   ]
  },
  {
   "cell_type": "code",
   "execution_count": 113,
   "id": "f75dbb47",
   "metadata": {},
   "outputs": [
    {
     "name": "stdout",
     "output_type": "stream",
     "text": [
      "2 2 45\n",
      "Help on tuple object:\n",
      "\n",
      "class tuple(object)\n",
      " |  tuple(iterable=(), /)\n",
      " |  \n",
      " |  Built-in immutable sequence.\n",
      " |  \n",
      " |  If no argument is given, the constructor returns an empty tuple.\n",
      " |  If iterable is specified the tuple is initialized from iterable's items.\n",
      " |  \n",
      " |  If the argument is a tuple, the return value is the same object.\n",
      " |  \n",
      " |  Built-in subclasses:\n",
      " |      asyncgen_hooks\n",
      " |      UnraisableHookArgs\n",
      " |  \n",
      " |  Methods defined here:\n",
      " |  \n",
      " |  __add__(self, value, /)\n",
      " |      Return self+value.\n",
      " |  \n",
      " |  __contains__(self, key, /)\n",
      " |      Return key in self.\n",
      " |  \n",
      " |  __eq__(self, value, /)\n",
      " |      Return self==value.\n",
      " |  \n",
      " |  __ge__(self, value, /)\n",
      " |      Return self>=value.\n",
      " |  \n",
      " |  __getattribute__(self, name, /)\n",
      " |      Return getattr(self, name).\n",
      " |  \n",
      " |  __getitem__(self, key, /)\n",
      " |      Return self[key].\n",
      " |  \n",
      " |  __getnewargs__(self, /)\n",
      " |  \n",
      " |  __gt__(self, value, /)\n",
      " |      Return self>value.\n",
      " |  \n",
      " |  __hash__(self, /)\n",
      " |      Return hash(self).\n",
      " |  \n",
      " |  __iter__(self, /)\n",
      " |      Implement iter(self).\n",
      " |  \n",
      " |  __le__(self, value, /)\n",
      " |      Return self<=value.\n",
      " |  \n",
      " |  __len__(self, /)\n",
      " |      Return len(self).\n",
      " |  \n",
      " |  __lt__(self, value, /)\n",
      " |      Return self<value.\n",
      " |  \n",
      " |  __mul__(self, value, /)\n",
      " |      Return self*value.\n",
      " |  \n",
      " |  __ne__(self, value, /)\n",
      " |      Return self!=value.\n",
      " |  \n",
      " |  __repr__(self, /)\n",
      " |      Return repr(self).\n",
      " |  \n",
      " |  __rmul__(self, value, /)\n",
      " |      Return value*self.\n",
      " |  \n",
      " |  count(self, value, /)\n",
      " |      Return number of occurrences of value.\n",
      " |  \n",
      " |  index(self, value, start=0, stop=9223372036854775807, /)\n",
      " |      Return first index of value.\n",
      " |      \n",
      " |      Raises ValueError if the value is not present.\n",
      " |  \n",
      " |  ----------------------------------------------------------------------\n",
      " |  Class methods defined here:\n",
      " |  \n",
      " |  __class_getitem__(...) from builtins.type\n",
      " |      See PEP 585\n",
      " |  \n",
      " |  ----------------------------------------------------------------------\n",
      " |  Static methods defined here:\n",
      " |  \n",
      " |  __new__(*args, **kwargs) from builtins.type\n",
      " |      Create and return a new object.  See help(type) for accurate signature.\n",
      "\n"
     ]
    }
   ],
   "source": [
    "(a,b,c,d,e,f) = new_tupe\n",
    "print(a,b,f)\n",
    "help(new_tupe)"
   ]
  },
  {
   "cell_type": "code",
   "execution_count": 2,
   "id": "50f3bffe",
   "metadata": {},
   "outputs": [
    {
     "name": "stdout",
     "output_type": "stream",
     "text": [
      "['Ramesh', 'Sharada', 'Sandhya', 'Sai', ['raja', 'tara'], (2, 'Sravs', 'Bals')]\n",
      "<class 'list'>\n",
      "<class 'tuple'>\n",
      "['Ramesh', 'Sharada', 'Sandhya']\n"
     ]
    }
   ],
   "source": [
    "l = ['Ramesh',\"Sharada\",'Sandhya',\"Sai\",['raja','tara'],(2,'Sravs','Bals')]\n",
    "print(l)\n",
    "print(type(l))\n",
    "print(type(l[-1]))\n",
    "print(l[0:3])"
   ]
  },
  {
   "cell_type": "code",
   "execution_count": 125,
   "id": "ee36c09b",
   "metadata": {},
   "outputs": [
    {
     "name": "stdout",
     "output_type": "stream",
     "text": [
      "['Ramesh', 'Sharada', 'Sandhya', 'Sai', ['raja', 'tara'], (2, 'Sravs', 'Bals'), 'Venkatesh', 'Kumari']\n",
      "True\n"
     ]
    }
   ],
   "source": [
    "l_1 = l + ['Venkatesh','Kumari']\n",
    "print(l_1)\n",
    "print(\"Sai\" in l_1)"
   ]
  },
  {
   "cell_type": "code",
   "execution_count": 3,
   "id": "4e5aaa9e",
   "metadata": {},
   "outputs": [
    {
     "name": "stdout",
     "output_type": "stream",
     "text": [
      "['Ramesh', 'Sharada', 'married', 'Sai', ['raja', 'tara'], (2, 'Sravs', 'Bals')]\n",
      "['Ramesh', 'Sharada', 'married', 'Sai', ['raja', 'tara'], (2, 'Sravs', 'Bals'), 'Venkatesh', 'Kumari']\n",
      "['Ramesh', 'Sharada', 'married', 'Sai', ['raja', 'tara'], (2, 'Sravs', 'Bals'), 'Venkatesh', 'Kumari', ['Venkatesh', 'Kumari']]\n",
      "['Ramesh', 'Sharada', 'Sai', ['raja', 'tara'], (2, 'Sravs', 'Bals'), 'Venkatesh', 'Kumari', ['Venkatesh', 'Kumari']]\n"
     ]
    }
   ],
   "source": [
    "l[2] = \"married\"\n",
    "print(l)\n",
    "l.extend(['Venkatesh','Kumari'])\n",
    "print(l)\n",
    "l.append(['Venkatesh','Kumari'])\n",
    "print(l)\n",
    "del(l[2])\n",
    "print(l)"
   ]
  },
  {
   "cell_type": "code",
   "execution_count": 9,
   "id": "e8667ac7",
   "metadata": {},
   "outputs": [
    {
     "name": "stdout",
     "output_type": "stream",
     "text": [
      "['Ramesh', 'Sharada', 'Sai', ['raja', 'tara'], (2, 'Sravs', 'Bals')]\n",
      "['Ramesh', 'Sharada', 'Sai', ['raja', 'tara']]\n",
      "['Ramesh', 'Sharada', ['raja', 'tara']]\n"
     ]
    }
   ],
   "source": [
    "\n",
    "print(l)\n",
    "l.pop()\n",
    "print(l)\n",
    "l.remove('Sai')\n",
    "print(l)"
   ]
  }
 ],
 "metadata": {
  "kernelspec": {
   "display_name": "Python 3 (ipykernel)",
   "language": "python",
   "name": "python3"
  },
  "language_info": {
   "codemirror_mode": {
    "name": "ipython",
    "version": 3
   },
   "file_extension": ".py",
   "mimetype": "text/x-python",
   "name": "python",
   "nbconvert_exporter": "python",
   "pygments_lexer": "ipython3",
   "version": "3.9.7"
  }
 },
 "nbformat": 4,
 "nbformat_minor": 5
}
