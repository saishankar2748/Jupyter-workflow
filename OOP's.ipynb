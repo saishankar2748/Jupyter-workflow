{
 "cells": [
  {
   "cell_type": "markdown",
   "id": "21f259d7",
   "metadata": {},
   "source": [
    "# <p style=\"color:blue\">Classes and Objects </p>\n",
    "-  In python everything is an object\n",
    "-  Object characteristics:\n",
    "    1. Type :- an object is an instance of a particular type <br> >> evrytime we create an integer we create an object/instance of type integer\n",
    "    2. Internal Representation :- attributes and methods of an object are defined inside a class\n",
    "    3. Methods :- set of functions to interact with the data <br> >> lis.sort(), s.union(d),...etc"
   ]
  },
  {
   "cell_type": "markdown",
   "id": "ea6bc227",
   "metadata": {},
   "source": [
    "<h1 style = \"color : Blue\"> i. Creating Classes and Objects </h1>\n",
    "<h2 style = \"color : Brown\">Defining a class</h2>\n",
    "\n",
    "- length and breadth as attributes\n",
    "- __init__() - constructor of class <br>initialise the attributes that define our class\n",
    "- self parameter - refers to the newly created instance of the class.  \n",
    "- attributes length and breadth are associated with self-keyword to identify them as instance variables"
   ]
  },
  {
   "cell_type": "code",
   "execution_count": 69,
   "id": "66862ac9",
   "metadata": {},
   "outputs": [],
   "source": [
    "class Rectangle :\n",
    "    def __init__(self):\n",
    "        self.length = 10  # statically assigning values to attributes\n",
    "        self.breadth = 5"
   ]
  },
  {
   "cell_type": "markdown",
   "id": "c5e72c80",
   "metadata": {},
   "source": [
    "- create the object by calling name of the class followed by parenthesis. \n",
    "- print the values using dot operator"
   ]
  },
  {
   "cell_type": "code",
   "execution_count": 70,
   "id": "7fb2d731",
   "metadata": {},
   "outputs": [
    {
     "name": "stdout",
     "output_type": "stream",
     "text": [
      "10 and 5\n",
      "<class '__main__.Rectangle'>\n",
      "<__main__.Rectangle object at 0x0000018B3DC18E80>\n"
     ]
    }
   ],
   "source": [
    "rec = Rectangle()    # rec is instance of class Rectangle\n",
    "print(rec.length,\"and\",rec.breadth)\n",
    "print(type(rec))\n",
    "print(rec)"
   ]
  },
  {
   "cell_type": "markdown",
   "id": "66dd513f",
   "metadata": {},
   "source": [
    "<h2 style = \"color : Brown\">Parametrised Constructor</h2>\n",
    "\n",
    "- parametrised constructor - dynamically assign the attribute values during object creation"
   ]
  },
  {
   "cell_type": "code",
   "execution_count": 41,
   "id": "a029301e",
   "metadata": {},
   "outputs": [],
   "source": [
    "class Rectangle :\n",
    "    def __init__(self,length,breadth):\n",
    "        self.length = length   # dynamically\n",
    "        self.breadth = breadth"
   ]
  },
  {
   "cell_type": "code",
   "execution_count": 42,
   "id": "3b845a99",
   "metadata": {},
   "outputs": [
    {
     "name": "stdout",
     "output_type": "stream",
     "text": [
      "33 43\n"
     ]
    }
   ],
   "source": [
    "rec = Rectangle(33,43)   # dynamically assigning values\n",
    "print(rec.length,rec.breadth)"
   ]
  },
  {
   "cell_type": "markdown",
   "id": "80b86e3d",
   "metadata": {},
   "source": [
    "<h1 style = \"color : Blue\">ii. Class Variable and Instance variables </h1>\n",
    "\n",
    "-  when dealing with objects some attributes are unique for all instances of a class and some are different for differenct instance of a class <br>\n",
    "1. class variable :- variable that are shared by all the instances\n",
    "2. instance variables(data attributes) :- variables that are unique to each instance of the class"
   ]
  },
  {
   "cell_type": "code",
   "execution_count": 43,
   "id": "aa4c08f9",
   "metadata": {},
   "outputs": [],
   "source": [
    "class Rectangle :\n",
    "    pi = 3    # class variable\n",
    "    def __init__(self,length,breadth):\n",
    "        self.length = length   # instance variable\n",
    "        self.breadth = breadth"
   ]
  },
  {
   "cell_type": "code",
   "execution_count": 44,
   "id": "32c82217",
   "metadata": {},
   "outputs": [
    {
     "name": "stdout",
     "output_type": "stream",
     "text": [
      "len: 4 bre: 5 pi: 3 3\n",
      "len: 7 bre: 8 pi: 3 3\n"
     ]
    }
   ],
   "source": [
    "rec = Rectangle(4,5)   \n",
    "rec1 = Rectangle(7,8)  # same class variable value\n",
    "print(\"len:\",rec.length,\"bre:\",rec.breadth,\"pi:\",rec.pi,Rectangle.pi)\n",
    "print(\"len:\",rec1.length,\"bre:\",rec1.breadth,\"pi:\",rec1.pi,Rectangle.pi)"
   ]
  },
  {
   "cell_type": "code",
   "execution_count": 45,
   "id": "e0098b30",
   "metadata": {},
   "outputs": [
    {
     "name": "stdout",
     "output_type": "stream",
     "text": [
      "pi: 2.14          pi with class 3.14\n",
      "pi: 3.14         pi with class 3.14\n"
     ]
    }
   ],
   "source": [
    "Rectangle.pi =3.14   # update using class name\n",
    "rec.pi=2.14          # update using object name\n",
    "print(\"pi:\",rec.pi,\"         pi with class\",Rectangle.pi)\n",
    "print(\"pi:\",rec1.pi,\"        pi with class\",Rectangle.pi)"
   ]
  },
  {
   "cell_type": "markdown",
   "id": "102ee1b6",
   "metadata": {},
   "source": [
    "<h1 style = \"color : Blue\">iii. Adding a method to class</h1>\n",
    "\n",
    "- area() - retutns the product of attributes length and breadth   \n",
    "- self - identifies its association with the instance\n",
    "    - The attributes length and breadth are associated with an instance.\n",
    "    - Self makes sure that each instance refers to its own copy of attributes"
   ]
  },
  {
   "cell_type": "code",
   "execution_count": 46,
   "id": "b59ad6a4",
   "metadata": {},
   "outputs": [],
   "source": [
    "class Rectangle :\n",
    "    pi = 3    \n",
    "    def __init__(self,length,breadth):\n",
    "        self.length = length  \n",
    "        self.breadth = breadth\n",
    "    def area(self):\n",
    "        return self.length*self.breadth"
   ]
  },
  {
   "cell_type": "code",
   "execution_count": 50,
   "id": "182aabe0",
   "metadata": {},
   "outputs": [
    {
     "name": "stdout",
     "output_type": "stream",
     "text": [
      "Length =  10 \n",
      "Breadth =  5 \n",
      "Area =  50\n"
     ]
    }
   ],
   "source": [
    "rect = Rectangle(10,5)\n",
    "print(\"Length = \",rect.length, \"\\nBreadth = \" ,rect.breadth, \"\\nArea = \", rect.area())"
   ]
  },
  {
   "cell_type": "markdown",
   "id": "845d3cf4",
   "metadata": {},
   "source": [
    "<h1 style = \"color : Blue\">iv. Class Method and Static Method </h1>\n",
    "    \n",
    "1. instance method :- called with instance/object of the class\n",
    "    -  bound to instance of a class\n",
    "    -  recieves instance object(self) as the implicit first argument\n",
    "    -  can acess class variables\n",
    "    -  defined normally\n",
    "2. class method :- called with class name\n",
    "    -  bound to class\n",
    "    -  recieves class object(cls) as the implicit first argument\n",
    "    -  cannot acess instance variables\n",
    "    -  defined using decorator >> @classmethod\n",
    "3. static method :- called with class name\n",
    "    -  bound to class\n",
    "    -  recieves class object(cls) as the implicit first argument\n",
    "    -  cannot acess instance variables\n",
    "    -  defined using decorator >> @staticmethod"
   ]
  },
  {
   "cell_type": "code",
   "execution_count": 66,
   "id": "b06d6e44",
   "metadata": {},
   "outputs": [],
   "source": [
    "class Rectangle :\n",
    "    pi = 3    \n",
    "    def __init__(self,length,breadth):\n",
    "        self.length = length  \n",
    "        self.breadth = breadth\n",
    "    \n",
    "    # instance method\n",
    "    def area(self):\n",
    "        return self.length*self.breadth\n",
    "    \n",
    "    #class method  - It cannot access - length,breadth\n",
    "    @classmethod\n",
    "    def acess_pi(cls):\n",
    "        cls.pi = 3.14\n",
    "    \n",
    "    #static method   - It cannot access pi,length,breadth\n",
    "    @staticmethod\n",
    "    def rectangle_staticmethod():\n",
    "        print(\"This is rectangle static method\")"
   ]
  },
  {
   "cell_type": "code",
   "execution_count": 67,
   "id": "c5aa49bc",
   "metadata": {},
   "outputs": [
    {
     "name": "stdout",
     "output_type": "stream",
     "text": [
      "3\n",
      "3\n",
      "20\n",
      "3.14\n",
      "This is rectangle static method\n"
     ]
    }
   ],
   "source": [
    "rec = Rectangle(4,5)\n",
    "print(Rectangle.pi)\n",
    "print(rec.pi)\n",
    "print(rec.area())\n",
    "Rectangle.acess_pi()\n",
    "print(Rectangle.pi)\n",
    "Rectangle.rectangle_staticmethod()"
   ]
  },
  {
   "cell_type": "markdown",
   "id": "aafcf32b",
   "metadata": {},
   "source": [
    "<h2 style = \"color : Brown\">Methods vs Functions</h2>\n",
    "\n",
    "In Python, functions are called generically, whereas methods are called on an object to access the data within it.\n",
    "\n",
    "A 'Method' may alter an object's state, but Python 'Function' usually only operates on it and then returns a value."
   ]
  },
  {
   "cell_type": "markdown",
   "id": "27655780",
   "metadata": {},
   "source": [
    "<h1 style = \"color : Blue\">v. Inheritance and Overriding"
   ]
  },
  {
   "cell_type": "code",
   "execution_count": 71,
   "id": "727ac2c4",
   "metadata": {},
   "outputs": [],
   "source": [
    "class Shape :\n",
    "    \n",
    "    \n",
    "    def set_color(self, color):\n",
    "        self.color = color\n",
    "        \n",
    "    def calculate_area(self):\n",
    "        pass\n",
    "        \n",
    "    def color_the_shape(self):\n",
    "        color_price = {\"red\" : 10, \"blue\" : 15, \"green\" : 5}\n",
    "        return self.calculate_area() * color_price[self.color]"
   ]
  },
  {
   "cell_type": "code",
   "execution_count": 83,
   "id": "165b6d0f",
   "metadata": {},
   "outputs": [],
   "source": [
    "class Circle(Shape) :\n",
    "    pi = 3.14\n",
    "    def __init__(self, radius):\n",
    "        self.radius = radius\n",
    "    # overiding    \n",
    "    def calculate_area(self):\n",
    "        return Circle.pi * (self.radius**2)"
   ]
  },
  {
   "cell_type": "code",
   "execution_count": 84,
   "id": "e67e5247",
   "metadata": {},
   "outputs": [
    {
     "name": "stdout",
     "output_type": "stream",
     "text": [
      "Circle with radius = 5 when colored red costs $ 785.0\n"
     ]
    }
   ],
   "source": [
    "c = Circle(5)\n",
    "c.set_color(\"red\")\n",
    "print(\"Circle with radius =\",c.radius ,\"when colored\", c.color,\"costs $\",c.color_the_shape())"
   ]
  },
  {
   "cell_type": "code",
   "execution_count": 79,
   "id": "7815bb13",
   "metadata": {},
   "outputs": [],
   "source": [
    "class Rectangle(Shape) :\n",
    "    def __init__(self, length, breadth):\n",
    "        self.length = length\n",
    "        self.breadth = breadth\n",
    "        \n",
    "     # Overriding user defined method   \n",
    "    def calculate_area(self):\n",
    "        return self.length * self.breadth\n",
    "    \n",
    "    # Overriding python default method\n",
    "    def __str__(self):\n",
    "        return \"area of rectangle = \" + str(self.calculate_area())"
   ]
  },
  {
   "cell_type": "code",
   "execution_count": 80,
   "id": "d1b5a748",
   "metadata": {},
   "outputs": [
    {
     "name": "stdout",
     "output_type": "stream",
     "text": [
      "Rectangle with length = 5  and breadth =  10 when colored blue costs $ 750\n"
     ]
    }
   ],
   "source": [
    "r = Rectangle(5, 10)\n",
    "r.set_color(\"blue\")\n",
    "print(\"Rectangle with length =\",r.length ,\" and breadth = \",r.breadth ,\"when colored\", r.color,\"costs $\",r.color_the_shape())"
   ]
  },
  {
   "cell_type": "code",
   "execution_count": 85,
   "id": "d508b3da",
   "metadata": {},
   "outputs": [
    {
     "name": "stdout",
     "output_type": "stream",
     "text": [
      "area of rectangle = 50\n"
     ]
    }
   ],
   "source": [
    "print(r)"
   ]
  }
 ],
 "metadata": {
  "kernelspec": {
   "display_name": "Python 3 (ipykernel)",
   "language": "python",
   "name": "python3"
  },
  "language_info": {
   "codemirror_mode": {
    "name": "ipython",
    "version": 3
   },
   "file_extension": ".py",
   "mimetype": "text/x-python",
   "name": "python",
   "nbconvert_exporter": "python",
   "pygments_lexer": "ipython3",
   "version": "3.9.7"
  }
 },
 "nbformat": 4,
 "nbformat_minor": 5
}
